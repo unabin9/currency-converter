{
 "cells": [
  {
   "cell_type": "code",
   "execution_count": 1,
   "metadata": {},
   "outputs": [],
   "source": [
    "import requests"
   ]
  },
  {
   "cell_type": "code",
   "execution_count": 2,
   "metadata": {},
   "outputs": [],
   "source": [
    "base_url = \"https://api.exchangeratesapi.io\""
   ]
  },
  {
   "cell_type": "code",
   "execution_count": 3,
   "metadata": {},
   "outputs": [
    {
     "name": "stdout",
     "output_type": "stream",
     "text": [
      " Please enter the date(in the format 'yyyy-mm-dd' or 'latest'): 2020-03-03\n",
      "convert from(currency): USD\n",
      "convert to(currency): INR\n",
      "how much USD you want to convert: 100\n",
      "\n",
      "100.0 USD is equal to 7324.72789422 INR, based upon exchane rate on 2020-03-03\n"
     ]
    }
   ],
   "source": [
    "date = input(\" Please enter the date(in the format 'yyyy-mm-dd' or 'latest'): \")\n",
    "base = input(\"convert from(currency): \")\n",
    "curr = input(\"convert to(currency): \")\n",
    "quan = float(input(\"how much {} you want to convert: \".format(base)))\n",
    "\n",
    "url = base_url + \"/\"+ date + \"?base=\" + base + \"&symbols=\" + curr\n",
    "response = requests.get(url)\n",
    "\n",
    "if(response.ok is False):\n",
    "    print(\"\\nError {}\".format(response.status_code))\n",
    "    print(response.json()[('error')])\n",
    "\n",
    "else:\n",
    "    data = response.json()\n",
    "    rate = data['rates'][curr]\n",
    "    \n",
    "    result = quan*rate\n",
    "    \n",
    "    print(\"\\n{0} {1} is equal to {2} {3}, based upon exchane rate on {4}\".format(quan,base,result,curr,data['date']))"
   ]
  },
  {
   "cell_type": "code",
   "execution_count": null,
   "metadata": {},
   "outputs": [],
   "source": []
  },
  {
   "cell_type": "code",
   "execution_count": null,
   "metadata": {},
   "outputs": [],
   "source": [
    "\n"
   ]
  }
 ],
 "metadata": {
  "kernelspec": {
   "display_name": "Python 3",
   "language": "python",
   "name": "python3"
  },
  "language_info": {
   "codemirror_mode": {
    "name": "ipython",
    "version": 3
   },
   "file_extension": ".py",
   "mimetype": "text/x-python",
   "name": "python",
   "nbconvert_exporter": "python",
   "pygments_lexer": "ipython3",
   "version": "3.7.6"
  }
 },
 "nbformat": 4,
 "nbformat_minor": 4
}
